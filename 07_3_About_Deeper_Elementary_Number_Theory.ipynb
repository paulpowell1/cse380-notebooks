{
  "nbformat": 4,
  "nbformat_minor": 0,
  "metadata": {
    "colab": {
      "name": " 07_3_About_Deeper_Elementary_Number_Theory.ipynb",
      "provenance": [],
      "include_colab_link": true
    },
    "kernelspec": {
      "name": "python3",
      "display_name": "Python 3"
    }
  },
  "cells": [
    {
      "cell_type": "markdown",
      "metadata": {
        "id": "view-in-github",
        "colab_type": "text"
      },
      "source": [
        "<a href=\"https://colab.research.google.com/github/paulpowell1/cse380-notebooks/blob/master/07_3_About_Deeper_Elementary_Number_Theory.ipynb\" target=\"_parent\"><img src=\"https://colab.research.google.com/assets/colab-badge.svg\" alt=\"Open In Colab\"/></a>"
      ]
    },
    {
      "cell_type": "markdown",
      "metadata": {
        "id": "fKBSJ5Hh6UMv"
      },
      "source": [
        "# About Deeper Elementary Number Theory\n",
        "## Class Directed Learning\n",
        "### Due: Wednesday, 17 February 2021, 11:59 pm"
      ]
    },
    {
      "cell_type": "markdown",
      "metadata": {
        "id": "yx-XMrWE6hEw"
      },
      "source": [
        "## Read and Ponder\n",
        "https://byui-cse.github.io/cse380-course/about-deeper-elementary-number-theory.pdf\n",
        "\n",
        "Put your answers in cells you will add below.\n",
        "\n",
        "Above and beyond behavior: Incorporate the material in the PDF into this notebook."
      ]
    },
    {
      "cell_type": "markdown",
      "metadata": {
        "id": "RENyc4y2Mf8K"
      },
      "source": [
        "https://www.youtube.com/watch?v=OoQ16YCYksw&ab_channel=KhanAcademyLabs"
      ]
    },
    {
      "cell_type": "markdown",
      "metadata": {
        "id": "s3v1-q-BMlT8"
      },
      "source": [
        "I am going to say yes. Khan academy helped me understand this a little better. Primes start very consistent and then begin to branch outward and grow fewer and fewer, but they never disappear. It is remarkably similar to a tree with its leaves where the farther you get away from a tree, the less leaves you see but you still see them. To find the percent of primes in a set of numbers you take 1/ ln(x) if you want to know the prime number percentage between 1 and 100000000 you plug x for 10000000 and you would get 3.1% if we actually counted we would get 3.2%. This is off by .01 percent each time. What we could do is take the size of the primes and then divide them by ln(x) which is x/ln(x) = prime (x), we use this to get how many primes there are without counting. The probability of k being prime from 1-1trillion would be 3.1 percent, its actual percent would be 3.2.\r\n",
        "\r\n"
      ]
    }
  ]
}