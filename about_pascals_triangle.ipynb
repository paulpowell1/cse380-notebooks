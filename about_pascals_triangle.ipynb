{
  "nbformat": 4,
  "nbformat_minor": 0,
  "metadata": {
    "kernelspec": {
      "display_name": "Python 3",
      "language": "python",
      "name": "python3"
    },
    "language_info": {
      "codemirror_mode": {
        "name": "ipython",
        "version": 3
      },
      "file_extension": ".py",
      "mimetype": "text/x-python",
      "name": "python",
      "nbconvert_exporter": "python",
      "pygments_lexer": "ipython3",
      "version": "3.9.0"
    },
    "colab": {
      "name": "about_pascals_triangle.ipynb",
      "provenance": []
    }
  },
  "cells": [
    {
      "cell_type": "markdown",
      "metadata": {
        "id": "oFvWyVpfZ3Lp"
      },
      "source": [
        "# About Pascal’s Triangle\n",
        "## Class Directed Learning\n",
        "### Due: Tuesday, 2 February 2021, 11:59 pm"
      ]
    },
    {
      "cell_type": "markdown",
      "metadata": {
        "id": "X_w9V0A7Z3Lt"
      },
      "source": [
        "## A Helper Function\n",
        "Exercise 253 on page 161 shows a recursive definition of `nCk`. Here's a much more efficient way to compute binomial coefficients, which perhaps you can profitably use in your investigations:\n"
      ]
    },
    {
      "cell_type": "code",
      "metadata": {
        "id": "VEA1CcwCZ3Lu"
      },
      "source": [
        "from math import gcd\n",
        "\n",
        "def nCk(n, k):\n",
        "  if k < 0 or k > n:\n",
        "    return 0\n",
        "  else:\n",
        "    result = 1\n",
        "    d = 1\n",
        "    g = 1\n",
        "    m = min(k, n - k)\n",
        "    while (d <= m):\n",
        "      g = gcd(result, d)\n",
        "      result = n * (result // g)\n",
        "      result = (result // (d // g))\n",
        "      n -= 1\n",
        "      d += 1\n",
        "    return result"
      ],
      "execution_count": null,
      "outputs": []
    },
    {
      "cell_type": "markdown",
      "metadata": {
        "id": "urPFrNbYZ3Lu"
      },
      "source": [
        "## Predominant and Fundamental\n",
        "The predominant pattern, the fundamental symmetry in Pascal's triangle is captured by the identity:\n",
        "$${n \\choose k} = {n \\choose n - k}$$\n",
        "## Identify Identities\n",
        "Here are two different identities that point out the same pattern in Pascal's triangle. What is the name of this pattern?\n",
        "### Identity 1\n",
        "For nonnegative integers $r$ and $n$:\n",
        "$$\\sum^n_{k=0} {r+k \\choose k} = {r+n+1 \\choose n}$$\n",
        "### Identity 2\n",
        "For nonnegative integers $m$ and $n$:\n",
        "$$\\sum^n_{k=0} {k \\choose m} = {n+1 \\choose m+1}$$"
      ]
    },
    {
      "cell_type": "markdown",
      "metadata": {
        "id": "LlP6mwD9Z3Lv"
      },
      "source": [
        "# Investigate A Possible Relationship\n",
        "Does any row in Pascal's Triangle have the Fibonacci numbers' relationship between three consecutive entries? In other words, where x, y, and z are three consecutive entries in a single row, does x + y = z?\n",
        "\n",
        "  The number of rows where this relationship could possibly hold is:\n",
        "  - [ ] Zero.\n",
        "  - [ ] At least one.\n",
        "  - [ ] At most one.\n",
        "  - [ ] Exactly one.\n",
        "  - [ ] It cannot be determined."
      ]
    },
    {
      "cell_type": "markdown",
      "metadata": {
        "id": "sxzqfPd1Z3Lv"
      },
      "source": [
        "# Investigate Another Possible Relationship\n",
        "Does any row in Pascal's Triangle have three consecutive entries in the ratio 1:2:3? (12:24:36 is an example of three numbers in a 1:2:3 ratio.)?\n",
        "\n",
        "  The number of rows where this relationship could possibly hold is:\n",
        "  - [ ] Zero.\n",
        "  - [ ] At least one.\n",
        "  - [ ] At most one.\n",
        "  - [ ] Exactly one.\n",
        "  - [ ] It cannot be determined."
      ]
    },
    {
      "cell_type": "code",
      "metadata": {
        "id": "d3MBoIaPZ9GH"
      },
      "source": [
        "About Pascal’s Triangle\r\n",
        "Class Directed Learning\r\n",
        "Due: Tuesday, 2 February 2021, 11:59 pm\r\n",
        "A Helper Function\r\n",
        "Exercise 253 on page 161 shows a recursive definition of nCk. Here's a much more efficient way to compute binomial coefficients, which perhaps you can profitably use in your investigations:\r\n",
        "\r\n",
        "In [1]:\r\n",
        "from math import gcd\r\n",
        "\r\n",
        "def nCk(n, k):\r\n",
        "  if k < 0 or k > n:\r\n",
        "    return 0\r\n",
        "  else:\r\n",
        "    result = 1\r\n",
        "    d = 1\r\n",
        "    g = 1\r\n",
        "    m = min(k, n - k)\r\n",
        "    while (d <= m):\r\n",
        "      g = gcd(result, d)\r\n",
        "      result = n * (result // g)\r\n",
        "      result = (result // (d // g))\r\n",
        "      n -= 1\r\n",
        "      d += 1\r\n",
        "    return result\r\n",
        "Predominant and Fundamental\r\n",
        "The predominant pattern, the fundamental symmetry in Pascal's triangle is captured by the identity:$${n \\choose k} = {n \\choose n - k}$$\r\n",
        "\r\n",
        "Identify Identities\r\n",
        "Here are two different identities that point out the same pattern in Pascal's triangle. What is the name of this pattern?\r\n",
        "\r\n",
        "Identity 1\r\n",
        "For nonnegative integers $r$ and $n$:$$\\sum^n_{k=0} {r+k \\choose k} = {r+n+1 \\choose n}$$\r\n",
        "Star of David\r\n",
        "\r\n",
        "Identity 2\r\n",
        "For nonnegative integers $m$ and $n$:$$\\sum^n_{k=0} {k \\choose m} = {n+1 \\choose m+1}$$\r\n",
        "\r\n",
        "\r\n",
        "Investigate A Possible Relationship\r\n",
        "Does any row in Pascal's Triangle have the Fibonacci numbers' relationship between three consecutive entries? In other words, where x, y, and z are three consecutive entries in a single row, does x + y = z?\r\n",
        "\r\n",
        "The number of rows where this relationship could possibly hold is:\r\n",
        "\r\n",
        "[ ] Zero.\r\n",
        "[ ] At least one.\r\n",
        "[ ] At most one.\r\n",
        "[x] Exactly one.\r\n",
        "[ ] It cannot be determined.\r\n",
        "Investigate Another Possible Relationship\r\n",
        "Does any row in Pascal's Triangle have three consecutive entries in the ratio 1:2:3? (12:24:36 is an example of three numbers in a 1:2:3 ratio.)?\r\n",
        "\r\n",
        "The number of rows where this relationship could possibly hold is:\r\n",
        "\r\n",
        "[ ] Zero.\r\n",
        "[ ] At least one.\r\n",
        "[x] At most one.\r\n",
        "[ ] Exactly one.\r\n",
        "[ ] It cannot be determined."
      ],
      "execution_count": null,
      "outputs": []
    }
  ]
}