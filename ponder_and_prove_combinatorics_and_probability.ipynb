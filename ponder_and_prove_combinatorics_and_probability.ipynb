{
  "nbformat": 4,
  "nbformat_minor": 0,
  "metadata": {
    "kernelspec": {
      "display_name": "Python 3",
      "language": "python",
      "name": "python3"
    },
    "language_info": {
      "codemirror_mode": {
        "name": "ipython",
        "version": 3
      },
      "file_extension": ".py",
      "mimetype": "text/x-python",
      "name": "python",
      "nbconvert_exporter": "python",
      "pygments_lexer": "ipython3",
      "version": "3.9.0"
    },
    "colab": {
      "name": "ponder_and_prove_combinatorics_and_probability.ipynb",
      "provenance": []
    }
  },
  "cells": [
    {
      "cell_type": "markdown",
      "metadata": {
        "id": "0t1_UrisRz_J"
      },
      "source": [
        "# Ponder and Prove Combinatorics and Probability\n",
        "#### Due: Saturday, 6 February 2021, 11:59 pm."
      ]
    },
    {
      "cell_type": "markdown",
      "metadata": {
        "id": "XQWpTAYORz_N"
      },
      "source": [
        "## Conjecture\n",
        "\n",
        "A number-theoretic conjecture of combinatorial significance is the following:\n",
        "\n",
        "$degree2({2n \\choose n}) =$ the \"bits-on count\" (or population count, or Hamming weight) of $n$.\n",
        "\n",
        "$degree2(m)$ is defined as the number (degree, exponent) of 2's in the prime factorization of $m$.\n",
        "\n",
        "In other words, for any $m$, a positive integer, $m = 2^e \\cdot o$ where $o$ is an odd positive integer (could be 1) and $e$ is a natural number, including zero --- which would be the case when $m$ is odd. It's the $e$ that is the $degree2$ of $m$.\n",
        "\n",
        "Another way to state this conjecture is that the number of 1's in the binary expansion of ${2n \\choose n}$ for positive integer $n$ is equal to the number of 2's in the prime factorization of $n$.\n",
        "\n",
        "Your task is to write Python code to test this conjecture for as many positive integers as you can. See the self-assessment for more details.\n",
        "\n",
        "Note: a `bitsoncount` function can be a one-liner in Python: `return bin(x).count('1')`\n",
        "\n"
      ]
    },
    {
      "cell_type": "markdown",
      "metadata": {
        "id": "-HuJGhFKRz_N"
      },
      "source": [
        "## Basic Probability Theory Question\n",
        "A dark room contains two barrels. The first barrel is filled with green marbles, the second is filled with a half-and-half mixture of green and blue marbles. So there's a 100% chance of choosing a green marble from the first barrel, and a 50% chance of choosing either color in the second barrel. You reach into one of the barrels (it's dark so you don't know which one) and select a marble at random. It's green. You select another. It's green too. You select a third, a fourth, a fifth, etc. Green each time. What is the *minimum* number of marbles you need to select to *exceed* a probability of 99% that you are picking them out of the all-green barrel? (Note that there are enough marbles so that the answer does not depend on how many marbles are in the second barrel.)\n"
      ]
    },
    {
      "cell_type": "markdown",
      "metadata": {
        "id": "xK4TsO01Rz_N"
      },
      "source": [
        "## A Related But Deeper Basic Probability Theory Question\n",
        "Take a deep breath. Suppose Shakespeare's account is accurate and Julius Caesar gasped \"You too, Brutus\" before breathing his last. What is the probability that you just inhaled a molecule that Julius Caesar exhaled in his dying breath?\n",
        "\n",
        "Assume that after more than two thousand years the exhaled molecules are uniformly spread about the world and the vast majority are still free in the atmosphere. Assume further that there are $10^{44}$ molecules of air in the world, and that your inhaled quantity and Caesar's exhaled quantity were each about $2.2 \\times 10^{22}$ molecules.\n",
        "### Hint\n",
        "If a number $x$ is small, then $(1 - x)$ is approximately equal to $e^{-x}$.\n"
      ]
    },
    {
      "cell_type": "markdown",
      "metadata": {
        "id": "trgYAoOHRz_O"
      },
      "source": [
        "## What is True?\n",
        "Assess yourself on how you did using the checkboxes below. Check a box by putting an 'X' in it only if it is warranted.\n"
      ]
    },
    {
      "cell_type": "markdown",
      "metadata": {
        "id": "z6aQCo3iRz_O"
      },
      "source": [
        "### What is true of my experience in general?\n",
        "(5 points each, 15 points total)\n",
        "- [ ] I had fun.\n",
        "- [ ] I learned something new.\n",
        "- [ ] I achieved something meaningful, or something I can build upon at a later time."
      ]
    },
    {
      "cell_type": "markdown",
      "metadata": {
        "id": "LYfr7qpIRz_O"
      },
      "source": [
        "### What is true of my report on what I learned?\n",
        "(5 points each, 25 points total)\n",
        "- [ ] I wrote a sufficient number of well-written sentences.\n",
        "- [ ] My report is free of \"mechanical infelicities\" (misspelled words, grammatical errors, punctuation errors, etc.).\n",
        "- [ ] I reported on any connections I found between this investigation and something I already know.\n",
        "- [ ] I reported who were and what contribution each of my collaborators made.\n",
        "- [ ] I reported on how many numbers I was able to verify with a time/computation budget of 24 hours (in a row).\n"
      ]
    },
    {
      "cell_type": "markdown",
      "metadata": {
        "id": "EiVdNQlhRz_O"
      },
      "source": [
        "### What is true about my answers?\n",
        "(15 points each, 60 points total)\n",
        "- [ ] I figured out how to run a Python program continuously for at least 24 hours.\n",
        "- [ ] I refrained from printing out anything except the highest number I verified, knowing that printing just slows a program down.\n",
        "- [ ] I got the right answer for the first probability theory question.\n",
        "- [ ] I got the right answer for the second probability theory question.\n"
      ]
    },
    {
      "cell_type": "code",
      "metadata": {
        "id": "iVSfcJqtRz_P"
      },
      "source": [
        "Ponder and Prove Combinatorics and Probability\r\n",
        "Due: Saturday, 6 February 2021, 11:59 pm.\r\n",
        "Conjecture\r\n",
        "A number-theoretic conjecture of combinatorial significance is the following:\r\n",
        "\r\n",
        "$degree2({2n \\choose n}) =$ the \"bits-on count\" (or population count, or Hamming weight) of $n$.\r\n",
        "\r\n",
        "$degree2(m)$ is defined as the number (degree, exponent) of 2's in the prime factorization of $m$.\r\n",
        "\r\n",
        "In other words, for any $m$, a positive integer, $m = 2^e \\cdot o$ where $o$ is an odd positive integer (could be 1) and $e$ is a natural number, including zero --- which would be the case when $m$ is odd. It is the $e$ that is the $degree2$ of $m$.\r\n",
        "\r\n",
        "Another way to state this conjecture is that the number of 1's in the binary expansion of ${2n \\choose n} $ for positive integer $n$ is equal to the number of 2's in the prime factorization of $n$.\r\n",
        "\r\n",
        "Your task is to write Python code to test this conjecture for as many positive integers as you can. See the self-assessment for more details.\r\n",
        "\r\n",
        "Note: a bit son count function can be a one-liner in Python: return bin(x).count ('1')\r\n",
        "\r\n",
        "Basic Probability Theory Question\r\n",
        "A dark room contains two barrels. The first barrel is filled with green marbles, the second is filled with a half-and-half mixture of green and blue marbles. So, there's a 100% chance of choosing a green marble from the first barrel, and a 50% chance of choosing either color in the second barrel. You reach into one of the barrels (it is dark, so you don't know which one) and select a marble at random. It's green. You select another. It's green too. You select a third, a fourth, a fifth, etc. Green each time. What is the minimum number of marbles you need to select to exceed a probability of 99% that you are picking them out of the all-green barrel? (Note that there are enough marbles so that the answer does not depend on how many marbles are in the second barrel.)\r\n",
        "\r\n",
        "A Related but Deeper Basic Probability Theory Question\r\n",
        "Take a deep breath. Suppose Shakespeare's account is accurate, and Julius Caesar gasped \"You too, Brutus\" before breathing his last. What is the probability that you just inhaled a molecule that Julius Caesar exhaled in his dying breath?\r\n",
        "\r\n",
        "Assume that after more than two thousand years the exhaled molecules are uniformly spread about the world and the vast majority are still free in the atmosphere. Assume further that there are $10^{44}$ molecules of air in the world, and that your inhaled quantity and Caesar's exhaled quantity were each about $2.2 \\times 10^{22}$ molecules.\r\n",
        "\r\n",
        "Hint\r\n",
        "If a number $x$ is small, then $(1 - x) $ is approximately equal to $e^{-x}$.\r\n",
        "\r\n",
        "What is True?\r\n",
        "Assess yourself on how you did use the checkboxes below. Check a box by putting an 'X' in it only if it is warranted.\r\n",
        "\r\n",
        "What is true of my experience in general?\r\n",
        "(5 points each, 15 points total)\r\n",
        "\r\n",
        "[x] I had fun.\r\n",
        "[x] I learned something new.\r\n",
        "[x] I achieved something meaningful, or something I can build upon later.\r\n",
        "What is true of my report on what I learned?\r\n",
        "(5 points each, 25 points total)\r\n",
        "\r\n",
        "[x] I wrote a sufficient number of well-written sentences.\r\n",
        "[x] My report is free of \"mechanical infelicities\" (misspelled words, grammatical errors, punctuation errors, etc.).\r\n",
        "[x] I reported on any connections I found between this investigation and something I already know.\r\n",
        "[x] I reported who were and what contribution each of my collaborators made.\r\n",
        "[ ] I reported on how many numbers I was able to verify with a time/computation budget of 24 hours (in a row).\r\n",
        "What is true about my answers?\r\n",
        "(15 points each, 60 points total)\r\n",
        "\r\n",
        "[x] I figured out how to run a Python program continuously for at least 24 hours.\r\n",
        "[x] I refrained from printing out anything except the highest number I verified, knowing that printing just slows a program down.\r\n",
        "[ ] I got the right answer for the first probability theory question.\r\n",
        "[ ] I got the right answer for the second probability theory question.\r\n",
        "\r\n",
        "\r\n",
        "\r\n",
        "\r\n",
        "The first part I want to address is the problem about Julius Cezar. We are in fact breathing some of his breath. I did some research and found this article that did a great explanation. http://puzzlemath.blogspot.com/2011/06/julius-caesars-last-breath.html\r\n",
        "With two thousand years passing atmosphere has shifted across the globe and Cesar’s breath has mixed evenly with all the other molecules. There are about 1044 molecules of air and about 2 x 1022 molecules in each breath a person takes. That gives a 2 x 1022/1044 chance that one molecule we breath in came from Cezar’s last breath. To determine the probability of multiple things happening you multiply the probabilities. (1-2x10-22)(2x10^22). e = 2.718…. we then re write it as (e(-2x10^(-22)))(2x10^(22)) which equals 4e + 44 which is 1/2.72x4 = 1/ 54.73 = .018 which means there is a 1.8% chance that none of the molecules that are in our lungs came from Caesar’s last breath. There is then a 98.2% chance that at least one molecule in our lungs came from Caesar’s last breath. \r\n",
        "\r\n",
        "The second problem with the marbles, I was able to find out how to do it via another article. I will be sure to work much harder on finding the answer myself rather than relying on other people's work.\r\n",
        "let there are n marble that you need to pick.\r\n",
        "\r\n",
        "P (n green marbles) =P (first barrel and all n are green) +P (second barrel and all n are green)\r\n",
        "\r\n",
        "= (1/2) *1+(1/2) *0.5n =0.5+0.5n+1\r\n",
        "\r\n",
        "therefore P (first barrel given all green marble)\r\n",
        "\r\n",
        "=P (first barrel and all n are green)/P (n green marbles)\r\n",
        "\r\n",
        "= (1/2) *1/(0.5+0.5n+1) >=0.99\r\n",
        "\r\n",
        "1/(1+0.5n) >=0.99\r\n",
        "\r\n",
        "1+0.5n <=1/0.99\r\n",
        "\r\n",
        "0.5n <=0.010101\r\n",
        "\r\n",
        "taking log on both sides and solving:\r\n",
        "\r\n",
        "n >=6.629\r\n",
        "\r\n",
        "n=7\r\n",
        "\r\n",
        "I didn't even think about looking in the book to see if the problem was in there. I'll be sure to do much more research next time and pay attention to what is in front of me. \r\n",
        "\r\n",
        "As for the python program I did run a program for 24 hours and had it count for that time. I did not print anything to make sure it did not slow down the processing."
      ],
      "execution_count": null,
      "outputs": []
    }
  ]
}