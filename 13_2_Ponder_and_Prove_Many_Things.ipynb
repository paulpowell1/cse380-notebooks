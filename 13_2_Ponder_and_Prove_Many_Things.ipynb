{
  "nbformat": 4,
  "nbformat_minor": 0,
  "metadata": {
    "colab": {
      "name": "13_2_Ponder_and_Prove_Many_Things.ipynb",
      "provenance": [],
      "include_colab_link": true
    },
    "kernelspec": {
      "name": "python3",
      "display_name": "Python 3"
    },
    "language_info": {
      "name": "python"
    }
  },
  "cells": [
    {
      "cell_type": "markdown",
      "metadata": {
        "id": "view-in-github",
        "colab_type": "text"
      },
      "source": [
        "<a href=\"https://colab.research.google.com/github/paulpowell1/cse380-notebooks/blob/master/13_2_Ponder_and_Prove_Many_Things.ipynb\" target=\"_parent\"><img src=\"https://colab.research.google.com/assets/colab-badge.svg\" alt=\"Open In Colab\"/></a>"
      ]
    },
    {
      "cell_type": "markdown",
      "metadata": {
        "id": "0GZOWnts9NAD"
      },
      "source": [
        "# Ponder and Prove Many Things\n",
        "## Due: Thursday, 1 April 2021, 11:59 pm"
      ]
    },
    {
      "cell_type": "markdown",
      "metadata": {
        "id": "S5XdXGMv9dy4"
      },
      "source": [
        "### Is It Decidable?"
      ]
    },
    {
      "cell_type": "markdown",
      "metadata": {
        "id": "Gzy9wIboAVvi"
      },
      "source": [
        "#### TODO Study and run the code below."
      ]
    },
    {
      "cell_type": "markdown",
      "metadata": {
        "id": "218Qmbtx9lP6"
      },
      "source": [
        "And answer these questions:\n",
        "1. What is this program computing?\n",
        "2. How does it do it?\n",
        "3. Will it ever terminate?"
      ]
    },
    {
      "cell_type": "code",
      "metadata": {
        "id": "LfltDFaw9trA"
      },
      "source": [
        "from math import log2\n",
        "\n",
        "def you_decide():\n",
        "  flibbers = [17,78,19,23,29,77,95,77,1,11,13,15,15,55]\n",
        "  flobbers = [91,85,51,38,33,29,23,19,17,13,11,14,2,1]\n",
        "  i = 2\n",
        "  time_keeps_ticking = True\n",
        "  while time_keeps_ticking:\n",
        "    time_keeps_ticking = False\n",
        "    for n in range(len(flibbers)):\n",
        "      f = i * flibbers[n]\n",
        "      if not f % flobbers[n]:\n",
        "        i = f // flobbers[n]\n",
        "        p = log2(i)\n",
        "        if p.is_integer():\n",
        "          print(i)\n",
        "        time_keeps_ticking = True\n",
        "        break"
      ],
      "execution_count": null,
      "outputs": []
    },
    {
      "cell_type": "code",
      "metadata": {
        "id": "fGZ9lZCP9xWC"
      },
      "source": [
        "you_decide()"
      ],
      "execution_count": null,
      "outputs": []
    },
    {
      "cell_type": "markdown",
      "metadata": {
        "id": "tna0BaiKaA1g"
      },
      "source": [
        "Well, it does terminate since it returns with an exit code of 0. The first number computes are -0.42 the output will only print if there is an integer and since nothing is printed out I belive that it is meant to compute which of the flobbers in an integer. It computes with i = 2 multiplies it by all numbers in the flibbers array then divides all the numbers by the flobbers array. It then takes the logerithm of that value then checks if it is an integer or not, if it is not then it won't print.\n",
        "\n"
      ]
    },
    {
      "cell_type": "markdown",
      "metadata": {
        "id": "oqZ3784B-EyX"
      },
      "source": [
        "### Fun With Decidability"
      ]
    },
    {
      "cell_type": "markdown",
      "metadata": {
        "id": "aeiVo2WpkySc"
      },
      "source": [
        "#### TODO Read and Share"
      ]
    },
    {
      "cell_type": "markdown",
      "metadata": {
        "id": "i13mpSpd-O39"
      },
      "source": [
        "Read [Can't Decide? Undecide! by Chaim Goodman-Strauss](https://strauss.hosted.uark.edu/papers/decide.pdf)\n",
        "\n",
        "Share six things that you found interesting in this paper.\n",
        "\n",
        "Share six things that you already knew or had heard about before. (These can overlap with the first six.)\n",
        "\n",
        "Write one to two sentences for each of the things you share.\n"
      ]
    },
    {
      "cell_type": "markdown",
      "metadata": {
        "id": "HwuA76wlcqBa"
      },
      "source": [
        "I find in the first part the question he asks is quite interesting. \"Could it be that there is no possible systematic method to answer our decision problem? This is in corresponded to his tile question. What if there isn't a systematic solution to a problem that we are facing? Does that make it unsolvable? Probably, but there are ways we can solve things systematically. \n",
        "\n",
        "In section 2 Chaim states that he is certainly undecidable. One key theme I have learned over the years is the more I learn the stupider I feel. That is to say I am not ignorant, but the wealth of knowledge only goes deeper and deeper and seams to only have more questions than answers when we discover something.\n",
        "\n",
        "2.3 states that each step in an arbitrary alphabet the length of a word is wn. When we append it it to oa where a is the first letter of wn we then write it as abw ---> aaa. What I didn't know is that this system precisely encodes the Collatiz function. \n",
        "\n",
        "I notice that there are many students that discover revolutionary ideas and important subjects. Post was a student in the 1920's, he created Normal Form Theorem in 1943. I don't plan on discovering anything amazing or revolutionary, but it does remind me that no matter who we are we can accomplish incredible things that we never thought possible.\n",
        "\n",
        "I knew what a word ladder was but not what it was called. You take letters are decidable because they are only finitely many legitimate words to go through. There is a generalization and there are many y specific examples that are still undecided.\n",
        "\n",
        "The function pi cannot be bounded by any function that is computable. It is a disguised form of the Halting problem.\n",
        "\n",
        "\n"
      ]
    },
    {
      "cell_type": "markdown",
      "metadata": {
        "id": "gjeWZ0Mo-r6E"
      },
      "source": [
        "### The Map of Mathematics"
      ]
    },
    {
      "cell_type": "markdown",
      "metadata": {
        "id": "xFFVrRTl-wY9"
      },
      "source": [
        "[The entire field of mathematics summarized in a single map!](https://www.youtube.com/watch?v=OmJ-4B-mS-Y) --- direct link, or embedded below.\n",
        "\n",
        "This video shows how pure mathematics and applied mathematics relate to each other and all of the sub-topics they are made from."
      ]
    },
    {
      "cell_type": "code",
      "metadata": {
        "id": "Wd_Ny-gS-zpk"
      },
      "source": [
        "from IPython.display import YouTubeVideo\n",
        "YouTubeVideo('OmJ-4B-mS-Y') # 11 minutes 5 seconds"
      ],
      "execution_count": null,
      "outputs": []
    },
    {
      "cell_type": "markdown",
      "metadata": {
        "id": "8PD-pimc-1dk"
      },
      "source": [
        "#### TODO Watch and Share"
      ]
    },
    {
      "cell_type": "markdown",
      "metadata": {
        "id": "9WIEkJ0p-9JD"
      },
      "source": [
        "Share six things that you found interesting in this video.\n",
        "\n",
        "Share six things that you already knew or had heard about before. (These can overlap with the first six.)\n",
        "\n",
        "Write one to two sentences for each of the things you share.\n"
      ]
    },
    {
      "cell_type": "markdown",
      "metadata": {
        "id": "aMKqVe7wEiBF"
      },
      "source": [
        "I knew that there were different catagories in math, but I didn't think of it in terms of applied and discovered. There is math that you do for doing its sake then there are those who take what was discovered and applies it.\n",
        "\n",
        "I knew that animals had a concept of amount but didn't know they could count. \n",
        "\n",
        "It is cool how he put most of what we learned into a category and how they all connect and that they are not applied mathematics. There are ways to apply them but they themselves are pure mathematics.\n",
        "\n",
        "I didn't know that game theory was a type of applied mathematics. I knew that human behavior could be linked to probability but was not its own mathematics.\n",
        "\n",
        "I knew that humans invented mathematics but while also means that it doesn't have limits. These are not ruling or laws of the universe it is simply our understanding of how the universe works and that is subject to change or be misconceived. \n",
        "\n"
      ]
    },
    {
      "cell_type": "markdown",
      "metadata": {
        "id": "nfxMo9bl_TZA"
      },
      "source": [
        "### The Map of Computer Science"
      ]
    },
    {
      "cell_type": "markdown",
      "metadata": {
        "id": "bM9Dst0d_tIW"
      },
      "source": [
        "[The field of computer science similarly summarized.](https://www.youtube.com/watch?v=SzJ46YA_RaA) --- direct link, or embedded below."
      ]
    },
    {
      "cell_type": "code",
      "metadata": {
        "id": "LnBJvrbi_xIp"
      },
      "source": [
        "from IPython.display import YouTubeVideo\n",
        "YouTubeVideo('SzJ46YA_RaA') # 10 minutes 57 seconds"
      ],
      "execution_count": null,
      "outputs": []
    },
    {
      "cell_type": "markdown",
      "metadata": {
        "id": "5194ShLd_zjU"
      },
      "source": [
        "#### TODO Watch and Share"
      ]
    },
    {
      "cell_type": "markdown",
      "metadata": {
        "id": "zTI_XHCU_1HW"
      },
      "source": [
        "Share six things that you found interesting in this video.\n",
        "\n",
        "Share six things that you already knew or had heard about before. (These can overlap with the first six.)\n",
        "\n",
        "Write one to two sentences for each of the things you share."
      ]
    },
    {
      "cell_type": "markdown",
      "metadata": {
        "id": "uFHvh7cX0mpt"
      },
      "source": [
        "I knew how we used computers to solve problems, but I never looked at them as just a means. They are not the be all end all. I used to think that computers could solve anything, I knew there were problems that would take to long but once again computers just use math which is something we invented which is just our limited understanding of everything that is around us.\n",
        "\n",
        "I knew that there were milti levels of the programming languages we used but I didn't think of them in the sense that they all compiled down to one another. Maybe I am misunderstanding the graphic, I'll need to look into it more. \n",
        "\n",
        "\n",
        "Computers really haven't been around for that long and it makes you wonder what the future holds and what effect it is having on the current generation as it takes a long time for evolution to take place. Will we evolve to better use computers or will be devolve? Only time will tell."
      ]
    },
    {
      "cell_type": "markdown",
      "metadata": {
        "id": "fPu3fWgR_3hI"
      },
      "source": [
        "### SKIP Report"
      ]
    },
    {
      "cell_type": "markdown",
      "metadata": {
        "id": "JoO9lagO_5lt"
      },
      "source": [
        "The sentences you have already (supposedly) written will suffice."
      ]
    },
    {
      "cell_type": "markdown",
      "metadata": {
        "id": "shpEERFS_87F"
      },
      "source": [
        "### SKIP Self-Assessment"
      ]
    },
    {
      "cell_type": "markdown",
      "metadata": {
        "id": "yWvKYeqc__bX"
      },
      "source": [
        "Instead, you will have ilearn peer reviews to complete."
      ]
    }
  ]
}