{
  "nbformat": 4,
  "nbformat_minor": 0,
  "metadata": {
    "colab": {
      "name": "12_2_Ponder_and_Prove_The_Pigeonhole_Principle.ipynb",
      "provenance": [],
      "include_colab_link": true
    },
    "kernelspec": {
      "name": "python3",
      "display_name": "Python 3"
    },
    "language_info": {
      "name": "python"
    }
  },
  "cells": [
    {
      "cell_type": "markdown",
      "metadata": {
        "id": "view-in-github",
        "colab_type": "text"
      },
      "source": [
        "<a href=\"https://colab.research.google.com/github/paulpowell1/cse380-notebooks/blob/master/12_2_Ponder_and_Prove_The_Pigeonhole_Principle.ipynb\" target=\"_parent\"><img src=\"https://colab.research.google.com/assets/colab-badge.svg\" alt=\"Open In Colab\"/></a>"
      ]
    },
    {
      "cell_type": "markdown",
      "metadata": {
        "id": "ivY_Ypmxx7Vm"
      },
      "source": [
        "# Ponder and Prove The Pigeonhole Principle\n",
        "## Due: Saturday, 27 March 2021"
      ]
    },
    {
      "cell_type": "markdown",
      "metadata": {
        "id": "zF2K38sxyH5Z"
      },
      "source": [
        "## Exploration"
      ]
    },
    {
      "cell_type": "markdown",
      "metadata": {
        "id": "uBgYLYK5yJzk"
      },
      "source": [
        "You are invited to explore some of the ramifications of the *Pigeonhole Principle*, a fascinating counting principle belonging to combinatorics.\n"
      ]
    },
    {
      "cell_type": "markdown",
      "metadata": {
        "id": "cIS4n3DpyXA1"
      },
      "source": [
        "### Requirements"
      ]
    },
    {
      "cell_type": "markdown",
      "metadata": {
        "id": "FqgealMfyZc8"
      },
      "source": [
        "Read Brother Kent Bessey's essay entitled *Pigeons and Pigeonholes*, think about and explore the topics therein, and write your response thereto.\n",
        "\n",
        "Include in your response a description of a discussion about this essay that you will have had with someone *not in the class* (nor in any of the STEM majors). This person can be a spouse, friend, roommate, or relative. The point is to find someone who is not mathematically strong, and has probably never heard of the Pigeonhole Principle, or combinatorics (or discrete mathematics) in general."
      ]
    },
    {
      "cell_type": "markdown",
      "metadata": {
        "id": "aPEEcqUGzFds"
      },
      "source": [
        "#### Copyright Note"
      ]
    },
    {
      "cell_type": "markdown",
      "metadata": {
        "id": "9EPgpQ0hzHr5"
      },
      "source": [
        "Brother Kent A. Bessey, Professor of Mathematics at BYU-Idaho, holds the copyright to this essay, which means:\n",
        "\n",
        "> All rights reserved (by him). Reproduced by permission (from him).\n",
        "Read-only. Please do not copy, print, transmit or save a copy of\n",
        "this work.\n",
        "\n",
        "He has authorized your temporary use of his work, which [you can find here](https://firstthreeodds.org/17657741833134731255/pigeons-and-pigeonholes.pdf)."
      ]
    },
    {
      "cell_type": "markdown",
      "metadata": {
        "id": "vRKIt3NOzkwH"
      },
      "source": [
        "### TODO Concretize the Abstract by Writing Some Code"
      ]
    },
    {
      "cell_type": "markdown",
      "metadata": {
        "id": "ngXSoVu3znIJ"
      },
      "source": [
        "Specifically, write some Python code to help you figure out the problem on page 40, which Brother Bessey prefaces by saying:\n",
        "\n",
        "> I leave it to the reader to verify the calculations for a final (albeit challenging) exercise ...!\n",
        "\n",
        "Include the results of your grappling with this problem, and note the two stubbed functions below that you must flesh out in order to verify the calculations and explain the hows and whys."
      ]
    },
    {
      "cell_type": "markdown",
      "metadata": {
        "id": "EBQNhzqGzzIF"
      },
      "source": [
        "#### Stub Code"
      ]
    },
    {
      "cell_type": "code",
      "metadata": {
        "id": "fCOUkHjqz10k"
      },
      "source": [
        "def calculate_number_of_possible_initials_including_middle_initial_if_any(n):\n",
        "  # YOUR CODE GOES HERE\n",
        "  raise NotImplementedError # replace this line\n",
        "\n",
        "def pigeonhole_from_pigeon(pigeon_represented_as_a_person_with_traits):\n",
        "  # YOUR CODE GOES HERE\n",
        "  raise NotImplementedError # replace this line"
      ],
      "execution_count": null,
      "outputs": []
    },
    {
      "cell_type": "markdown",
      "metadata": {
        "id": "JvMpIHMF0JuM"
      },
      "source": [
        "### TODO Find Applications of the Pigeonhole Principle"
      ]
    },
    {
      "cell_type": "markdown",
      "metadata": {
        "id": "9aicPoZG0Lbj"
      },
      "source": [
        "Dirichlet's approximation theorem. This theorem states that for any real numbers with 1 < or equal to N there exists integers p and q such that 1 < or equal to q < or equal to N.\n",
        "\n",
        "![image.png](data:image/png;base64,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)"
      ]
    },
    {
      "cell_type": "markdown",
      "metadata": {
        "id": "81dbKwHenxnT"
      },
      "source": [
        "## TODO My Report on What I Did and What I Learned"
      ]
    },
    {
      "cell_type": "markdown",
      "metadata": {
        "id": "C8BeiIern33B"
      },
      "source": [
        "### Fun\n"
      ]
    },
    {
      "cell_type": "markdown",
      "metadata": {
        "id": "ElukRLoezyxd"
      },
      "source": [
        "I really enjoyed how I could apply the pigion hol principle to my everyday life. My first instinct was to throw it into the associated catagorie of probability, howver it is not probability it is fact. You can know for a fact that two people in idaho had the same amount of hair folicles at one point in time. You can know for a fact that two people in 366 individuals at least 2 of them share a birthday. It is cool how I can apply it directly rather than in specific circumstances in code or with a math problem. \n",
        "\n",
        "\n",
        "\n"
      ]
    },
    {
      "cell_type": "markdown",
      "metadata": {
        "id": "OzOkZ3son-u9"
      },
      "source": [
        "### New"
      ]
    },
    {
      "cell_type": "markdown",
      "metadata": {
        "id": "3-nYIdEUz4x5"
      },
      "source": [
        "I learned how to deal with a mathematic absolute. You would not think you could state with confidence that you knew two people in Idaho have the same initials. Or that there are two people in Rexburg that have breakfast at the same time. An initial reaction would be that a statement like that would be true based on a percent chance, but it is not."
      ]
    },
    {
      "cell_type": "markdown",
      "metadata": {
        "id": "mJHvoj6GokaZ"
      },
      "source": [
        "### Meaningful\n"
      ]
    },
    {
      "cell_type": "markdown",
      "metadata": {
        "id": "XOxh3XFTz-6N"
      },
      "source": [
        "Understanding and seeing where I can apply the pigeonhole principle in my daily life. I plan on working to understand and comprehend where and when the principle could apply and not apply."
      ]
    },
    {
      "cell_type": "markdown",
      "metadata": {
        "id": "_RBE03fhpNUG"
      },
      "source": [
        "### Other"
      ]
    },
    {
      "cell_type": "markdown",
      "metadata": {
        "id": "d-sXEeq60C3W"
      },
      "source": [
        "I collaberated with George Weiland and we both learned a lot this lesson."
      ]
    },
    {
      "cell_type": "markdown",
      "metadata": {
        "id": "Nrk-8EmgW4NP"
      },
      "source": [
        "## TODO What is True?\n",
        "Click on each warranted checkbox to toggle it to True (or back to False). \n",
        "\n",
        "NOTE: *This only works in Colab. If you run it in some other Jupyter notebook client/server environment you may have to change False to True (or vice versa) manually.*\n",
        "\n",
        "This self-assessment is subject to revision by a grader."
      ]
    },
    {
      "cell_type": "code",
      "metadata": {
        "id": "qGAjzgVRXR4M"
      },
      "source": [
        "#@markdown ## What is True about what I did?\n",
        "#@markdown ### I had fun.\n",
        "cb00 = True #@param {type:'boolean'}\n",
        "#@markdown ### I learned something new.\n",
        "cb01 = True #@param {type:'boolean'}\n",
        "#@markdown ### I achieved something meaningful, or something I can build upon at a later time.\n",
        "cb02 = True #@param {type:'boolean'}\n",
        "#@markdown ## What is True about my report?\n",
        "#@markdown ### I wrote a sufficient number of well-written sentences.\n",
        "cb03 = True #@param {type:'boolean'}\n",
        "#@markdown ### My report is free of mechanical infelicities.\n",
        "cb04 = True #@param {type:'boolean'}\n",
        "#@markdown ### I used Grammarly (or something better described in my report) to check for MIs.\n",
        "cb05 = True #@param {type:'boolean'}\n",
        "#@markdown ### I reported on any connections I found between these problems and something I already know. \n",
        "cb06 = True #@param {type:'boolean'}\n",
        "#@markdown ### I reported who were and what contribution each of my collaborators made.\n",
        "cb07 = True #@param {type:'boolean'}\n",
        "#@markdown ### I reported what I thought about the essay in general.\n",
        "cb08 = True #@param {type:'boolean'}\n",
        "#@markdown ### I reported what I thought about the certainty-not-chance feature of the pigeonhole principle.\n",
        "cb09 = True #@param {type:'boolean'}\n",
        "#@markdown ### I reported what I thought about the philosophical aspect of the pigeonhole principle per page 41.\n",
        "cb10 = False #@param {type:'boolean'}\n",
        "#@markdown ### I reported on how my discussion with a non-STEM non-classmate went.\n",
        "cb11 = False #@param {type:'boolean'}\n",
        "#@markdown ### I reported on how I grappled with the problem at the bottom of page 40.\n",
        "cb12 = True #@param {type:'boolean'}\n",
        "#@markdown ### I reported on the connection I found between the pigeonhole principle and graphs.\n",
        "cb13 = True #@param {type:'boolean'}\n",
        "#@markdown ## What is True about my code?\n",
        "#@markdown ### I implemented the first function (the one with the absurdly long name) in one or two lines of code.\n",
        "cb14 = False #@param {type:'boolean'}\n",
        "#@markdown ### I used either the sum rule and product rule together or else just the product rule in the first function.\n",
        "cb15 = False #@param {type:'boolean'}\n",
        "#@markdown ### The first function calculates and returns the correct value (see Exercise 250).\n",
        "cb16 = False #@param {type:'boolean'}\n",
        "#@markdown ### The second function inputs a dictionary like {'Name': 'John Doe', 'LDS': True, 'Likes Cats': True, 'Born Before': True, 'Wears Contacts': False, 'Bites Fingernails': False, 'Lives Close': True} and returns the string 'J D:111001'.\n",
        "cb17 = False #@param {type:'boolean'}\n",
        "#@markdown ### The second function calls the first function with the appropriate argument and uses the result.\n",
        "cb18 = False #@param {type:'boolean'}\n",
        "#@markdown ### The second function includes an assert that the length of the string being returned is 10.\n",
        "cb19 = False #@param {type:'boolean'}\n",
        "#@markdown ### The second function includes an assert that the cardinality of its codomain (set of possible return values) is over a million.\n",
        "cb20 = False #@param {type:'boolean'}"
      ],
      "execution_count": null,
      "outputs": []
    },
    {
      "cell_type": "markdown",
      "metadata": {
        "id": "q8KESLBANSkC"
      },
      "source": [
        "## DO NOT CHANGE ANYTHING IN THE NEXT CODE CELL!!\n",
        "### Delete this cell and the following ones before submitting your work."
      ]
    },
    {
      "cell_type": "code",
      "metadata": {
        "id": "rJ_vaL0DWwoc",
        "colab": {
          "base_uri": "https://localhost:8080/"
        },
        "outputId": "de4a9ea6-03a9-4d79-94dd-27e2603abe59"
      },
      "source": [
        "points_for_what_I_did = [3]*3\n",
        "points_for_my_report = [5]*8 + [7] + [6]*2\n",
        "points_for_my_code = [4]*3 + [5]*4\n",
        "points = points_for_what_I_did + points_for_my_report + points_for_my_code\n",
        "# cb is short for checkbox\n",
        "total = sum(map(lambda n, p: p if eval(f'cb{n:02}') else 0,\n",
        "                range(len(points)), points))             \n",
        "total"
      ],
      "execution_count": null,
      "outputs": [
        {
          "output_type": "execute_result",
          "data": {
            "text/plain": [
              "0"
            ]
          },
          "metadata": {
            "tags": []
          },
          "execution_count": 14
        }
      ]
    },
    {
      "cell_type": "markdown",
      "metadata": {
        "id": "muxeYgQQKGEU"
      },
      "source": [
        "# For graders"
      ]
    }
  ]
}