{
  "nbformat": 4,
  "nbformat_minor": 0,
  "metadata": {
    "colab": {
      "name": "11_1_About_Paths_in_Word_Graphs.ipynb",
      "provenance": [],
      "include_colab_link": true
    },
    "kernelspec": {
      "name": "python3",
      "display_name": "Python 3"
    }
  },
  "cells": [
    {
      "cell_type": "markdown",
      "metadata": {
        "id": "view-in-github",
        "colab_type": "text"
      },
      "source": [
        "<a href=\"https://colab.research.google.com/github/paulpowell1/cse380-notebooks/blob/master/11_1_About_Paths_in_Word_Graphs.ipynb\" target=\"_parent\"><img src=\"https://colab.research.google.com/assets/colab-badge.svg\" alt=\"Open In Colab\"/></a>"
      ]
    },
    {
      "cell_type": "markdown",
      "metadata": {
        "id": "bdAeTh17kn01"
      },
      "source": [
        "# About Paths in Word Graphs\n",
        "## Divide Pair Conquer\n",
        "### Due: Monday, 15 March 2021, 11:59 pm"
      ]
    },
    {
      "cell_type": "markdown",
      "metadata": {
        "id": "XJHGM9eQkwxH"
      },
      "source": [
        "## Definition"
      ]
    },
    {
      "cell_type": "markdown",
      "metadata": {
        "id": "GM3LBOlNkzid"
      },
      "source": [
        "Word graphs are like those in Exercise 381, the nodes are words, the links are between words that differ by only one letter in the same position (e.g., **wind** and **wins** differ in the fourth letter only, so that defines a link. But **dine** and **tone** differ in the first and second letters, so no link there)."
      ]
    },
    {
      "cell_type": "markdown",
      "metadata": {
        "id": "YxO6SnVXoFWY"
      },
      "source": [
        "## TODO Find Short Paths"
      ]
    },
    {
      "cell_type": "markdown",
      "metadata": {
        "id": "pASpYbc-oGns"
      },
      "source": [
        "**Without** looking online at any of the 5 billion web sites devoted to this problem, create a graph representation using the following \"universe\" of words:"
      ]
    },
    {
      "cell_type": "code",
      "metadata": {
        "id": "JPLq4YOJoLab",
        "colab": {
          "base_uri": "https://localhost:8080/"
        },
        "outputId": "726dfb88-9d83-4d96-e0d6-04f1b60dd7b4"
      },
      "source": [
        "import json, urllib.request\n",
        "# word list comes from here: https://github.com/dwyl/english-words\n",
        "url = \"https://raw.githubusercontent.com/dwyl/english-words/master/words_dictionary.json\"\n",
        "with urllib.request.urlopen(url) as f: \n",
        "  words = json.loads(f.read())\n",
        "  print('windy' in words)"
      ],
      "execution_count": null,
      "outputs": [
        {
          "output_type": "stream",
          "text": [
            "True\n"
          ],
          "name": "stdout"
        }
      ]
    },
    {
      "cell_type": "markdown",
      "metadata": {
        "id": "THnbd22gocyt"
      },
      "source": [
        "Find by hand the shortest paths for as many of the following endpoints as you can. Or, if you have time, write code to find these paths:"
      ]
    },
    {
      "cell_type": "markdown",
      "metadata": {
        "id": "sir5gH7cpQFB"
      },
      "source": [
        "### From \"dry\" to \"wet\""
      ]
    },
    {
      "cell_type": "markdown",
      "metadata": {
        "id": "tXoZiV9xtnvO"
      },
      "source": [
        "dry\n",
        "day\n",
        "way\n",
        "wad\n",
        "wed\n",
        "wet"
      ]
    },
    {
      "cell_type": "markdown",
      "metadata": {
        "id": "b6V-ITRMpRvE"
      },
      "source": [
        "### From \"read\" to \"ride\""
      ]
    },
    {
      "cell_type": "markdown",
      "metadata": {
        "id": "jihidVefwtG6"
      },
      "source": [
        "read redd rede ride    "
      ]
    },
    {
      "cell_type": "markdown",
      "metadata": {
        "id": "uLOTZRAVpVKF"
      },
      "source": [
        "### From \"fish\" to \"fowl\""
      ]
    },
    {
      "cell_type": "markdown",
      "metadata": {
        "id": "cvhwlhMVypML"
      },
      "source": [
        "fish, nish, nosh, nosy, nowy, nowl, fowl"
      ]
    },
    {
      "cell_type": "markdown",
      "metadata": {
        "id": "cm0_qn79pWaZ"
      },
      "source": [
        "### From \"hate\" to \"love\""
      ]
    },
    {
      "cell_type": "markdown",
      "metadata": {
        "id": "HpxAo3jbIVlg"
      },
      "source": [
        "hate, late, love"
      ]
    },
    {
      "cell_type": "markdown",
      "metadata": {
        "id": "3XL322-eKAaF"
      },
      "source": [
        ""
      ]
    },
    {
      "cell_type": "markdown",
      "metadata": {
        "id": "bwsoOSr2pXsI"
      },
      "source": [
        "### From \"head\" to \"feet\""
      ]
    },
    {
      "cell_type": "markdown",
      "metadata": {
        "id": "wA5Uwj13KQRT"
      },
      "source": [
        "head heed feed feet"
      ]
    },
    {
      "cell_type": "markdown",
      "metadata": {
        "id": "tYmmwLDApY-a"
      },
      "source": [
        "### From \"poor\" to \"rich\""
      ]
    },
    {
      "cell_type": "markdown",
      "metadata": {
        "id": "LlWaXjY-KkEd"
      },
      "source": [
        "poor, pooh, posh, pish, pise, rice, rich"
      ]
    },
    {
      "cell_type": "markdown",
      "metadata": {
        "id": "hvEyvK3ypaR5"
      },
      "source": [
        "### From \"sick\" to \"well\""
      ]
    },
    {
      "cell_type": "markdown",
      "metadata": {
        "id": "rwl9vxsLOc9x"
      },
      "source": [
        "sick, silk, sill, will, well"
      ]
    },
    {
      "cell_type": "markdown",
      "metadata": {
        "id": "2KzWkpn3pb2H"
      },
      "source": [
        "### From \"warm\" to \"cold\""
      ]
    },
    {
      "cell_type": "markdown",
      "metadata": {
        "id": "rltn1ubcQ-6h"
      },
      "source": [
        "warm, ward, wald, wold, cold"
      ]
    },
    {
      "cell_type": "markdown",
      "metadata": {
        "id": "nriebmvRpg9m"
      },
      "source": [
        "### From \"work\" to \"play\""
      ]
    },
    {
      "cell_type": "markdown",
      "metadata": {
        "id": "2vBx0YvZRgAy"
      },
      "source": [
        "work, wort, wert, pert, peat, plat, play"
      ]
    },
    {
      "cell_type": "markdown",
      "metadata": {
        "id": "Bn1gMDAvpidg"
      },
      "source": [
        "### From \"bane\" to \"boon\""
      ]
    },
    {
      "cell_type": "markdown",
      "metadata": {
        "id": "v_scbeUmTgHW"
      },
      "source": [
        "bane, bone, bonk, book, boon"
      ]
    },
    {
      "cell_type": "markdown",
      "metadata": {
        "id": "iZ0UQQBGpjvy"
      },
      "source": [
        "### From \"black\" to \"white\""
      ]
    },
    {
      "cell_type": "markdown",
      "metadata": {
        "id": "TQWPuY-vT-Nf"
      },
      "source": [
        "black slack slick slice spice spine shine whine white"
      ]
    },
    {
      "cell_type": "markdown",
      "metadata": {
        "id": "PUhtca6YplBL"
      },
      "source": [
        "### From \"bread\" to \"toast\""
      ]
    },
    {
      "cell_type": "markdown",
      "metadata": {
        "id": "k4e0Zy_VV_L8"
      },
      "source": [
        "Bread, break, bleak, bleat, blest, blast, boast, toast"
      ]
    },
    {
      "cell_type": "markdown",
      "metadata": {
        "id": "drhFyUbnpmwQ"
      },
      "source": [
        "## TODO Go Above and Beyond"
      ]
    },
    {
      "cell_type": "markdown",
      "metadata": {
        "id": "9Y_YdUrapoaE"
      },
      "source": [
        "Think of ways to change the definition of a link in a word graph to make it possible (although perhaps costlier) to move from word to word."
      ]
    }
  ]
}